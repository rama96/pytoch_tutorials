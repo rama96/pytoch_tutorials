{
  "nbformat": 4,
  "nbformat_minor": 0,
  "metadata": {
    "colab": {
      "name": "Introduction_to_PyTorch.ipynb",
      "provenance": [],
      "authorship_tag": "ABX9TyNlhQNEQ6R3sR0hYOGql8oT",
      "include_colab_link": true
    },
    "kernelspec": {
      "name": "python3",
      "display_name": "Python 3"
    },
    "language_info": {
      "name": "python"
    },
    "accelerator": "GPU",
    "gpuClass": "standard"
  },
  "cells": [
    {
      "cell_type": "markdown",
      "metadata": {
        "id": "view-in-github",
        "colab_type": "text"
      },
      "source": [
        "<a href=\"https://colab.research.google.com/github/rama96/pytorch_tutorials/blob/master/Introduction_to_PyTorch.ipynb\" target=\"_parent\"><img src=\"https://colab.research.google.com/assets/colab-badge.svg\" alt=\"Open In Colab\"/></a>"
      ]
    },
    {
      "cell_type": "markdown",
      "source": [
        "# Intro to PytTorch"
      ],
      "metadata": {
        "id": "llnr0xh1L9bZ"
      }
    },
    {
      "cell_type": "markdown",
      "source": [
        "## Tensors"
      ],
      "metadata": {
        "id": "9fDQeQIoOSAu"
      }
    },
    {
      "cell_type": "code",
      "execution_count": 1,
      "metadata": {
        "id": "I3ObXdCCL8UP"
      },
      "outputs": [],
      "source": [
        "import torch\n",
        "import numpy as np"
      ]
    },
    {
      "cell_type": "markdown",
      "source": [
        "### Conversion from numpy"
      ],
      "metadata": {
        "id": "Wcd2G8LrMQ8l"
      }
    },
    {
      "cell_type": "code",
      "source": [
        "data = [[1, 2],[3, 4]]\n",
        "x_data = torch.tensor(data)\n",
        "\n",
        "np_array = np.array([[1, 2],[3, 4]])\n",
        "x_np = torch.tensor(np_array)"
      ],
      "metadata": {
        "id": "lG2XCONTMGmU"
      },
      "execution_count": 2,
      "outputs": []
    },
    {
      "cell_type": "markdown",
      "source": [
        "### Majorly used torch functions for tensor manipulations \n",
        "\n",
        "1. torch.rand \n",
        "2. torch.ones \n",
        "3. torch.zeros \n",
        "4. torch.cat\n"
      ],
      "metadata": {
        "id": "4gZ7YW-EMg28"
      }
    },
    {
      "cell_type": "code",
      "source": [
        "shape = (2,3,)\n",
        "rand_tensor = torch.rand(shape)\n",
        "ones_tensor = torch.ones(shape)\n",
        "zeros_tensor = torch.zeros(shape)\n",
        "\n",
        "print(f\"Random Tensor: \\n {rand_tensor} \\n\")\n",
        "print(f\"Ones Tensor: \\n {ones_tensor} \\n\")\n",
        "print(f\"Zeros Tensor: \\n {zeros_tensor}\")\n",
        "\n",
        "tensor = torch.rand(3,4)\n",
        "\n",
        "print(f\"Shape of tensor: {tensor.shape}\")\n",
        "print(f\"Datatype of tensor: {tensor.dtype}\")\n",
        "print(f\"Device tensor is stored on: {tensor.device}\")\n",
        "\n",
        "t1 = torch.cat([tensor, tensor, tensor], dim=1)\n",
        "print(f\"Concatenated tensors\")\n",
        "print(tensor)\n",
        "print(t1)\n",
        "print(t1.shape)"
      ],
      "metadata": {
        "colab": {
          "base_uri": "https://localhost:8080/"
        },
        "id": "8APG_azyMf8V",
        "outputId": "73065eb1-4372-4234-b3aa-14275c326bb1"
      },
      "execution_count": 8,
      "outputs": [
        {
          "output_type": "stream",
          "name": "stdout",
          "text": [
            "Random Tensor: \n",
            " tensor([[0.9751, 0.6613, 0.4911],\n",
            "        [0.4382, 0.1616, 0.3994]]) \n",
            "\n",
            "Ones Tensor: \n",
            " tensor([[1., 1., 1.],\n",
            "        [1., 1., 1.]]) \n",
            "\n",
            "Zeros Tensor: \n",
            " tensor([[0., 0., 0.],\n",
            "        [0., 0., 0.]])\n",
            "Shape of tensor: torch.Size([3, 4])\n",
            "Datatype of tensor: torch.float32\n",
            "Device tensor is stored on: cpu\n",
            "Concatenated tensors\n",
            "tensor([[0.4638, 0.3129, 0.5920, 0.0384],\n",
            "        [0.7367, 0.3447, 0.1271, 0.6630],\n",
            "        [0.5547, 0.8782, 0.7304, 0.6689]])\n",
            "tensor([[0.4638, 0.3129, 0.5920, 0.0384, 0.4638, 0.3129, 0.5920, 0.0384, 0.4638,\n",
            "         0.3129, 0.5920, 0.0384],\n",
            "        [0.7367, 0.3447, 0.1271, 0.6630, 0.7367, 0.3447, 0.1271, 0.6630, 0.7367,\n",
            "         0.3447, 0.1271, 0.6630],\n",
            "        [0.5547, 0.8782, 0.7304, 0.6689, 0.5547, 0.8782, 0.7304, 0.6689, 0.5547,\n",
            "         0.8782, 0.7304, 0.6689]])\n",
            "torch.Size([3, 12])\n"
          ]
        }
      ]
    },
    {
      "cell_type": "markdown",
      "source": [
        "By default, tensors are created on the CPU. We need to explicitly move tensors to the GPU using .to method (after checking for GPU availability). "
      ],
      "metadata": {
        "id": "Ja4G7R2LNL_v"
      }
    },
    {
      "cell_type": "code",
      "source": [
        "# We move our tensor to the GPU if available\n",
        "if torch.cuda.is_available():\n",
        "    tensor = tensor.to(\"cuda\")\n",
        "  \n"
      ],
      "metadata": {
        "id": "Te2aEi50NFvH"
      },
      "execution_count": 4,
      "outputs": []
    },
    {
      "cell_type": "code",
      "source": [
        "tensor = torch.ones(4, 4)\n",
        "print(f\"First row: {tensor[0]}\")\n",
        "print(f\"First column: {tensor[:, 0]}\")\n",
        "print(f\"Last column: {tensor[..., -1]}\")\n",
        "tensor[:,1] = 0\n",
        "print(tensor)"
      ],
      "metadata": {
        "colab": {
          "base_uri": "https://localhost:8080/"
        },
        "id": "SrYFmF_lNUBJ",
        "outputId": "eaaaa47f-9c3c-4471-c59c-a818695c7fd5"
      },
      "execution_count": 9,
      "outputs": [
        {
          "output_type": "stream",
          "name": "stdout",
          "text": [
            "First row: tensor([1., 1., 1., 1.])\n",
            "First column: tensor([1., 1., 1., 1.])\n",
            "Last column: tensor([1., 1., 1., 1.])\n",
            "tensor([[1., 0., 1., 1.],\n",
            "        [1., 0., 1., 1.],\n",
            "        [1., 0., 1., 1.],\n",
            "        [1., 0., 1., 1.]])\n"
          ]
        }
      ]
    },
    {
      "cell_type": "markdown",
      "source": [
        "### Arithmetic Operations"
      ],
      "metadata": {
        "id": "oT9h5hWeOo9p"
      }
    },
    {
      "cell_type": "code",
      "source": [
        "# Matrix multiplication , y1 and y2 would have the same value\n",
        "\n",
        "tensor = torch.rand(3,4)\n",
        "\n",
        "print(tensor)\n",
        " \n",
        "y1 = tensor @ tensor.T\n",
        "y2 = tensor.matmul(tensor.T)\n",
        "\n",
        "# Checks element wise equality \n",
        "print(torch.eq(y1, y2))\n",
        "\n",
        "# Checks overall equality\n",
        "print(torch.equal(y1, y2))\n",
        "\n",
        "\n"
      ],
      "metadata": {
        "colab": {
          "base_uri": "https://localhost:8080/"
        },
        "id": "t0snP_67OeM4",
        "outputId": "8628f7fc-6843-4062-84a1-1b17566a79f5"
      },
      "execution_count": 13,
      "outputs": [
        {
          "output_type": "stream",
          "name": "stdout",
          "text": [
            "tensor([[0.7697, 0.2927, 0.7619, 0.8249],\n",
            "        [0.7652, 0.6868, 0.2431, 0.7702],\n",
            "        [0.0704, 0.2619, 0.4642, 0.1377]])\n",
            "tensor([[True, True, True],\n",
            "        [True, True, True],\n",
            "        [True, True, True]])\n",
            "True\n"
          ]
        }
      ]
    },
    {
      "cell_type": "code",
      "source": [
        "# This computes the element-wise product. z1, z2 will have the same value\n",
        "z1 = tensor * tensor\n",
        "z2 = tensor.mul(tensor)\n",
        "\n",
        "# Checks element wise equality \n",
        "print(torch.eq(z1, z2))\n",
        "\n",
        "# Checks overall equality\n",
        "print(torch.equal(z1, z2))\n"
      ],
      "metadata": {
        "colab": {
          "base_uri": "https://localhost:8080/"
        },
        "id": "kfbuAAbSPGza",
        "outputId": "00f9f487-4a89-4706-eb68-5ae329eaa879"
      },
      "execution_count": 14,
      "outputs": [
        {
          "output_type": "stream",
          "name": "stdout",
          "text": [
            "tensor([[True, True, True, True],\n",
            "        [True, True, True, True],\n",
            "        [True, True, True, True]])\n",
            "True\n"
          ]
        }
      ]
    },
    {
      "cell_type": "markdown",
      "source": [
        "## Datasets and Dataloaders\n"
      ],
      "metadata": {
        "id": "BQyI_3QqQDac"
      }
    },
    {
      "cell_type": "code",
      "source": [
        ""
      ],
      "metadata": {
        "id": "h4hYV8EKQC4d"
      },
      "execution_count": null,
      "outputs": []
    },
    {
      "cell_type": "code",
      "source": [
        ""
      ],
      "metadata": {
        "id": "ZDbP8sLyPv1L"
      },
      "execution_count": null,
      "outputs": []
    }
  ]
}